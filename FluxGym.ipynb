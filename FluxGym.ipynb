{
  "cells": [
    {
      "cell_type": "markdown",
      "metadata": {
        "id": "view-in-github",
        "colab_type": "text"
      },
      "source": [
        "<a href=\"https://colab.research.google.com/github/Adam-Strange/test/blob/main/FluxGym.ipynb\" target=\"_parent\"><img src=\"https://colab.research.google.com/assets/colab-badge.svg\" alt=\"Open In Colab\"/></a>"
      ]
    },
    {
      "cell_type": "markdown",
      "source": [
        "# **FluxGym Colab**"
      ],
      "metadata": {
        "id": "_I-HADozm4sB"
      }
    },
    {
      "cell_type": "markdown",
      "source": [
        "**Important Notice**\n",
        "\n",
        "Please be aware that this Colab notebook is a work in progress. Model training can be time-consuming, and you may want to consider a Colab Pro membership for extensive training sessions.\n",
        "\n",
        "We are working on improving training efficiency and will update the notebook as advancements are made from the original developers. Thank you for your understanding!"
      ],
      "metadata": {
        "id": "LmV1zQMole6d"
      }
    },
    {
      "cell_type": "markdown",
      "source": [
        "# **Git Clone the Flux Gym and Kohya-SS sd-scripts Github Repository**\n",
        "\n",
        "\n",
        "\n"
      ],
      "metadata": {
        "id": "A-39F5xHjJ2m"
      }
    },
    {
      "cell_type": "code",
      "execution_count": 1,
      "metadata": {
        "collapsed": true,
        "id": "lU6VoX3zs66v",
        "colab": {
          "base_uri": "https://localhost:8080/"
        },
        "outputId": "b27ab370-694a-4be7-f22c-48c0434705d8"
      },
      "outputs": [
        {
          "output_type": "stream",
          "name": "stdout",
          "text": [
            "Cloning into 'fluxgym'...\n",
            "remote: Enumerating objects: 271, done.\u001b[K\n",
            "remote: Counting objects: 100% (163/163), done.\u001b[K\n",
            "remote: Compressing objects: 100% (62/62), done.\u001b[K\n",
            "remote: Total 271 (delta 130), reused 104 (delta 101), pack-reused 108 (from 1)\u001b[K\n",
            "Receiving objects: 100% (271/271), 16.52 MiB | 15.25 MiB/s, done.\n",
            "Resolving deltas: 100% (157/157), done.\n",
            "Cloning into 'sd-scripts'...\n",
            "remote: Enumerating objects: 8664, done.\u001b[K\n",
            "remote: Counting objects: 100% (349/349), done.\u001b[K\n",
            "remote: Compressing objects: 100% (42/42), done.\u001b[K\n",
            "remote: Total 8664 (delta 323), reused 307 (delta 307), pack-reused 8315 (from 4)\u001b[K\n",
            "Receiving objects: 100% (8664/8664), 10.95 MiB | 16.39 MiB/s, done.\n",
            "Resolving deltas: 100% (6252/6252), done.\n"
          ]
        }
      ],
      "source": [
        "!git clone https://github.com/cocktailpeanut/fluxgym\n",
        "!cd fluxgym\n",
        "!git clone -b sd3 https://github.com/kohya-ss/sd-scripts"
      ]
    },
    {
      "cell_type": "code",
      "execution_count": 2,
      "metadata": {
        "collapsed": true,
        "id": "F1U5UZJltP30",
        "colab": {
          "base_uri": "https://localhost:8080/"
        },
        "outputId": "76311769-f121-4bfe-8399-9ad8a167f908"
      },
      "outputs": [
        {
          "output_type": "stream",
          "name": "stdout",
          "text": [
            "/content/fluxgym\n",
            "Cloning into 'sd-scripts'...\n",
            "remote: Enumerating objects: 8664, done.\u001b[K\n",
            "remote: Counting objects: 100% (370/370), done.\u001b[K\n",
            "remote: Compressing objects: 100% (48/48), done.\u001b[K\n",
            "remote: Total 8664 (delta 339), reused 322 (delta 322), pack-reused 8294 (from 3)\u001b[K\n",
            "Receiving objects: 100% (8664/8664), 10.98 MiB | 9.68 MiB/s, done.\n",
            "Resolving deltas: 100% (6250/6250), done.\n"
          ]
        }
      ],
      "source": [
        "%cd /content/fluxgym/\n",
        "!git clone -b sd3 https://github.com/kohya-ss/sd-scripts"
      ]
    },
    {
      "cell_type": "markdown",
      "source": [
        "# **Install each projects dependencies**"
      ],
      "metadata": {
        "id": "KQLG4s_5j5HM"
      }
    },
    {
      "cell_type": "code",
      "execution_count": 1,
      "metadata": {
        "collapsed": true,
        "id": "eD7Yf7B5tWVa",
        "colab": {
          "base_uri": "https://localhost:8080/"
        },
        "outputId": "56124ddb-4a81-458c-f476-1fbf854b6888"
      },
      "outputs": [
        {
          "output_type": "stream",
          "name": "stdout",
          "text": [
            "/content/fluxgym/sd-scripts\n",
            "Obtaining file:///content/fluxgym/sd-scripts (from -r requirements.txt (line 45))\n",
            "  Preparing metadata (setup.py) ... \u001b[?25l\u001b[?25hdone\n",
            "Requirement already satisfied: accelerate==0.33.0 in /usr/local/lib/python3.11/dist-packages (from -r requirements.txt (line 1)) (0.33.0)\n",
            "Requirement already satisfied: transformers==4.44.0 in /usr/local/lib/python3.11/dist-packages (from -r requirements.txt (line 2)) (4.44.0)\n",
            "Collecting diffusers==0.25.0 (from diffusers[torch]==0.25.0->-r requirements.txt (line 3))\n",
            "  Using cached diffusers-0.25.0-py3-none-any.whl.metadata (19 kB)\n",
            "Requirement already satisfied: ftfy==6.1.1 in /usr/local/lib/python3.11/dist-packages (from -r requirements.txt (line 4)) (6.1.1)\n",
            "Requirement already satisfied: opencv-python==4.8.1.78 in /usr/local/lib/python3.11/dist-packages (from -r requirements.txt (line 6)) (4.8.1.78)\n",
            "Requirement already satisfied: einops==0.7.0 in /usr/local/lib/python3.11/dist-packages (from -r requirements.txt (line 7)) (0.7.0)\n",
            "Requirement already satisfied: pytorch-lightning==1.9.0 in /usr/local/lib/python3.11/dist-packages (from -r requirements.txt (line 8)) (1.9.0)\n",
            "Requirement already satisfied: bitsandbytes==0.44.0 in /usr/local/lib/python3.11/dist-packages (from -r requirements.txt (line 9)) (0.44.0)\n",
            "Requirement already satisfied: prodigyopt==1.0 in /usr/local/lib/python3.11/dist-packages (from -r requirements.txt (line 10)) (1.0)\n",
            "Requirement already satisfied: lion-pytorch==0.0.6 in /usr/local/lib/python3.11/dist-packages (from -r requirements.txt (line 11)) (0.0.6)\n",
            "Requirement already satisfied: schedulefree==1.4 in /usr/local/lib/python3.11/dist-packages (from -r requirements.txt (line 12)) (1.4)\n",
            "Requirement already satisfied: tensorboard in /usr/local/lib/python3.11/dist-packages (from -r requirements.txt (line 13)) (2.17.1)\n",
            "Requirement already satisfied: safetensors==0.4.4 in /usr/local/lib/python3.11/dist-packages (from -r requirements.txt (line 14)) (0.4.4)\n",
            "Requirement already satisfied: altair==4.2.2 in /usr/local/lib/python3.11/dist-packages (from -r requirements.txt (line 16)) (4.2.2)\n",
            "Requirement already satisfied: easygui==0.98.3 in /usr/local/lib/python3.11/dist-packages (from -r requirements.txt (line 17)) (0.98.3)\n",
            "Requirement already satisfied: toml==0.10.2 in /usr/local/lib/python3.11/dist-packages (from -r requirements.txt (line 18)) (0.10.2)\n",
            "Requirement already satisfied: voluptuous==0.13.1 in /usr/local/lib/python3.11/dist-packages (from -r requirements.txt (line 19)) (0.13.1)\n",
            "Collecting huggingface-hub==0.24.5 (from -r requirements.txt (line 20))\n",
            "  Using cached huggingface_hub-0.24.5-py3-none-any.whl.metadata (13 kB)\n",
            "Requirement already satisfied: imagesize==1.4.1 in /usr/local/lib/python3.11/dist-packages (from -r requirements.txt (line 22)) (1.4.1)\n",
            "Requirement already satisfied: rich==13.7.0 in /usr/local/lib/python3.11/dist-packages (from -r requirements.txt (line 41)) (13.7.0)\n",
            "Requirement already satisfied: sentencepiece==0.2.0 in /usr/local/lib/python3.11/dist-packages (from -r requirements.txt (line 43)) (0.2.0)\n",
            "Requirement already satisfied: numpy<2.0.0,>=1.17 in /usr/local/lib/python3.11/dist-packages (from accelerate==0.33.0->-r requirements.txt (line 1)) (1.26.4)\n",
            "Requirement already satisfied: packaging>=20.0 in /usr/local/lib/python3.11/dist-packages (from accelerate==0.33.0->-r requirements.txt (line 1)) (24.2)\n",
            "Requirement already satisfied: psutil in /usr/local/lib/python3.11/dist-packages (from accelerate==0.33.0->-r requirements.txt (line 1)) (5.9.5)\n",
            "Requirement already satisfied: pyyaml in /usr/local/lib/python3.11/dist-packages (from accelerate==0.33.0->-r requirements.txt (line 1)) (6.0.2)\n",
            "Requirement already satisfied: torch>=1.10.0 in /usr/local/lib/python3.11/dist-packages (from accelerate==0.33.0->-r requirements.txt (line 1)) (2.5.1+cu121)\n",
            "Requirement already satisfied: filelock in /usr/local/lib/python3.11/dist-packages (from transformers==4.44.0->-r requirements.txt (line 2)) (3.16.1)\n",
            "Requirement already satisfied: regex!=2019.12.17 in /usr/local/lib/python3.11/dist-packages (from transformers==4.44.0->-r requirements.txt (line 2)) (2024.11.6)\n",
            "Requirement already satisfied: requests in /usr/local/lib/python3.11/dist-packages (from transformers==4.44.0->-r requirements.txt (line 2)) (2.32.3)\n",
            "Requirement already satisfied: tokenizers<0.20,>=0.19 in /usr/local/lib/python3.11/dist-packages (from transformers==4.44.0->-r requirements.txt (line 2)) (0.19.1)\n",
            "Requirement already satisfied: tqdm>=4.27 in /usr/local/lib/python3.11/dist-packages (from transformers==4.44.0->-r requirements.txt (line 2)) (4.67.1)\n",
            "Requirement already satisfied: importlib-metadata in /usr/local/lib/python3.11/dist-packages (from diffusers==0.25.0->diffusers[torch]==0.25.0->-r requirements.txt (line 3)) (8.5.0)\n",
            "Requirement already satisfied: Pillow in /usr/local/lib/python3.11/dist-packages (from diffusers==0.25.0->diffusers[torch]==0.25.0->-r requirements.txt (line 3)) (10.4.0)\n",
            "Requirement already satisfied: wcwidth>=0.2.5 in /usr/local/lib/python3.11/dist-packages (from ftfy==6.1.1->-r requirements.txt (line 4)) (0.2.13)\n",
            "Requirement already satisfied: fsspec>2021.06.0 in /usr/local/lib/python3.11/dist-packages (from fsspec[http]>2021.06.0->pytorch-lightning==1.9.0->-r requirements.txt (line 8)) (2024.10.0)\n",
            "Requirement already satisfied: torchmetrics>=0.7.0 in /usr/local/lib/python3.11/dist-packages (from pytorch-lightning==1.9.0->-r requirements.txt (line 8)) (1.6.1)\n",
            "Requirement already satisfied: typing-extensions>=4.0.0 in /usr/local/lib/python3.11/dist-packages (from pytorch-lightning==1.9.0->-r requirements.txt (line 8)) (4.12.2)\n",
            "Requirement already satisfied: lightning-utilities>=0.4.2 in /usr/local/lib/python3.11/dist-packages (from pytorch-lightning==1.9.0->-r requirements.txt (line 8)) (0.11.9)\n",
            "Requirement already satisfied: entrypoints in /usr/local/lib/python3.11/dist-packages (from altair==4.2.2->-r requirements.txt (line 16)) (0.4)\n",
            "Requirement already satisfied: jinja2 in /usr/local/lib/python3.11/dist-packages (from altair==4.2.2->-r requirements.txt (line 16)) (3.1.5)\n",
            "Requirement already satisfied: jsonschema>=3.0 in /usr/local/lib/python3.11/dist-packages (from altair==4.2.2->-r requirements.txt (line 16)) (4.23.0)\n",
            "Requirement already satisfied: pandas>=0.18 in /usr/local/lib/python3.11/dist-packages (from altair==4.2.2->-r requirements.txt (line 16)) (2.2.2)\n",
            "Requirement already satisfied: toolz in /usr/local/lib/python3.11/dist-packages (from altair==4.2.2->-r requirements.txt (line 16)) (0.12.1)\n",
            "Requirement already satisfied: markdown-it-py>=2.2.0 in /usr/local/lib/python3.11/dist-packages (from rich==13.7.0->-r requirements.txt (line 41)) (3.0.0)\n",
            "Requirement already satisfied: pygments<3.0.0,>=2.13.0 in /usr/local/lib/python3.11/dist-packages (from rich==13.7.0->-r requirements.txt (line 41)) (2.18.0)\n",
            "Requirement already satisfied: absl-py>=0.4 in /usr/local/lib/python3.11/dist-packages (from tensorboard->-r requirements.txt (line 13)) (1.4.0)\n",
            "Requirement already satisfied: grpcio>=1.48.2 in /usr/local/lib/python3.11/dist-packages (from tensorboard->-r requirements.txt (line 13)) (1.69.0)\n",
            "Requirement already satisfied: markdown>=2.6.8 in /usr/local/lib/python3.11/dist-packages (from tensorboard->-r requirements.txt (line 13)) (3.7)\n",
            "Requirement already satisfied: protobuf!=4.24.0,>=3.19.6 in /usr/local/lib/python3.11/dist-packages (from tensorboard->-r requirements.txt (line 13)) (4.25.5)\n",
            "Requirement already satisfied: setuptools>=41.0.0 in /usr/local/lib/python3.11/dist-packages (from tensorboard->-r requirements.txt (line 13)) (75.1.0)\n",
            "Requirement already satisfied: six>1.9 in /usr/local/lib/python3.11/dist-packages (from tensorboard->-r requirements.txt (line 13)) (1.17.0)\n",
            "Requirement already satisfied: tensorboard-data-server<0.8.0,>=0.7.0 in /usr/local/lib/python3.11/dist-packages (from tensorboard->-r requirements.txt (line 13)) (0.7.2)\n",
            "Requirement already satisfied: werkzeug>=1.0.1 in /usr/local/lib/python3.11/dist-packages (from tensorboard->-r requirements.txt (line 13)) (3.1.3)\n",
            "Requirement already satisfied: aiohttp!=4.0.0a0,!=4.0.0a1 in /usr/local/lib/python3.11/dist-packages (from fsspec[http]>2021.06.0->pytorch-lightning==1.9.0->-r requirements.txt (line 8)) (3.11.11)\n",
            "Requirement already satisfied: attrs>=22.2.0 in /usr/local/lib/python3.11/dist-packages (from jsonschema>=3.0->altair==4.2.2->-r requirements.txt (line 16)) (24.3.0)\n",
            "Requirement already satisfied: jsonschema-specifications>=2023.03.6 in /usr/local/lib/python3.11/dist-packages (from jsonschema>=3.0->altair==4.2.2->-r requirements.txt (line 16)) (2024.10.1)\n",
            "Requirement already satisfied: referencing>=0.28.4 in /usr/local/lib/python3.11/dist-packages (from jsonschema>=3.0->altair==4.2.2->-r requirements.txt (line 16)) (0.35.1)\n",
            "Requirement already satisfied: rpds-py>=0.7.1 in /usr/local/lib/python3.11/dist-packages (from jsonschema>=3.0->altair==4.2.2->-r requirements.txt (line 16)) (0.22.3)\n",
            "Requirement already satisfied: mdurl~=0.1 in /usr/local/lib/python3.11/dist-packages (from markdown-it-py>=2.2.0->rich==13.7.0->-r requirements.txt (line 41)) (0.1.2)\n",
            "Requirement already satisfied: python-dateutil>=2.8.2 in /usr/local/lib/python3.11/dist-packages (from pandas>=0.18->altair==4.2.2->-r requirements.txt (line 16)) (2.8.2)\n",
            "Requirement already satisfied: pytz>=2020.1 in /usr/local/lib/python3.11/dist-packages (from pandas>=0.18->altair==4.2.2->-r requirements.txt (line 16)) (2024.2)\n",
            "Requirement already satisfied: tzdata>=2022.7 in /usr/local/lib/python3.11/dist-packages (from pandas>=0.18->altair==4.2.2->-r requirements.txt (line 16)) (2024.2)\n",
            "Requirement already satisfied: networkx in /usr/local/lib/python3.11/dist-packages (from torch>=1.10.0->accelerate==0.33.0->-r requirements.txt (line 1)) (3.4.2)\n",
            "Requirement already satisfied: nvidia-cuda-nvrtc-cu12==12.1.105 in /usr/local/lib/python3.11/dist-packages (from torch>=1.10.0->accelerate==0.33.0->-r requirements.txt (line 1)) (12.1.105)\n",
            "Requirement already satisfied: nvidia-cuda-runtime-cu12==12.1.105 in /usr/local/lib/python3.11/dist-packages (from torch>=1.10.0->accelerate==0.33.0->-r requirements.txt (line 1)) (12.1.105)\n",
            "Requirement already satisfied: nvidia-cuda-cupti-cu12==12.1.105 in /usr/local/lib/python3.11/dist-packages (from torch>=1.10.0->accelerate==0.33.0->-r requirements.txt (line 1)) (12.1.105)\n",
            "Requirement already satisfied: nvidia-cudnn-cu12==9.1.0.70 in /usr/local/lib/python3.11/dist-packages (from torch>=1.10.0->accelerate==0.33.0->-r requirements.txt (line 1)) (9.1.0.70)\n",
            "Requirement already satisfied: nvidia-cublas-cu12==12.1.3.1 in /usr/local/lib/python3.11/dist-packages (from torch>=1.10.0->accelerate==0.33.0->-r requirements.txt (line 1)) (12.1.3.1)\n",
            "Requirement already satisfied: nvidia-cufft-cu12==11.0.2.54 in /usr/local/lib/python3.11/dist-packages (from torch>=1.10.0->accelerate==0.33.0->-r requirements.txt (line 1)) (11.0.2.54)\n",
            "Requirement already satisfied: nvidia-curand-cu12==10.3.2.106 in /usr/local/lib/python3.11/dist-packages (from torch>=1.10.0->accelerate==0.33.0->-r requirements.txt (line 1)) (10.3.2.106)\n",
            "Requirement already satisfied: nvidia-cusolver-cu12==11.4.5.107 in /usr/local/lib/python3.11/dist-packages (from torch>=1.10.0->accelerate==0.33.0->-r requirements.txt (line 1)) (11.4.5.107)\n",
            "Requirement already satisfied: nvidia-cusparse-cu12==12.1.0.106 in /usr/local/lib/python3.11/dist-packages (from torch>=1.10.0->accelerate==0.33.0->-r requirements.txt (line 1)) (12.1.0.106)\n",
            "Requirement already satisfied: nvidia-nccl-cu12==2.21.5 in /usr/local/lib/python3.11/dist-packages (from torch>=1.10.0->accelerate==0.33.0->-r requirements.txt (line 1)) (2.21.5)\n",
            "Requirement already satisfied: nvidia-nvtx-cu12==12.1.105 in /usr/local/lib/python3.11/dist-packages (from torch>=1.10.0->accelerate==0.33.0->-r requirements.txt (line 1)) (12.1.105)\n",
            "Requirement already satisfied: triton==3.1.0 in /usr/local/lib/python3.11/dist-packages (from torch>=1.10.0->accelerate==0.33.0->-r requirements.txt (line 1)) (3.1.0)\n",
            "Requirement already satisfied: sympy==1.13.1 in /usr/local/lib/python3.11/dist-packages (from torch>=1.10.0->accelerate==0.33.0->-r requirements.txt (line 1)) (1.13.1)\n",
            "Requirement already satisfied: nvidia-nvjitlink-cu12 in /usr/local/lib/python3.11/dist-packages (from nvidia-cusolver-cu12==11.4.5.107->torch>=1.10.0->accelerate==0.33.0->-r requirements.txt (line 1)) (12.6.85)\n",
            "Requirement already satisfied: mpmath<1.4,>=1.1.0 in /usr/local/lib/python3.11/dist-packages (from sympy==1.13.1->torch>=1.10.0->accelerate==0.33.0->-r requirements.txt (line 1)) (1.3.0)\n",
            "Requirement already satisfied: MarkupSafe>=2.1.1 in /usr/local/lib/python3.11/dist-packages (from werkzeug>=1.0.1->tensorboard->-r requirements.txt (line 13)) (2.1.5)\n",
            "Requirement already satisfied: zipp>=3.20 in /usr/local/lib/python3.11/dist-packages (from importlib-metadata->diffusers==0.25.0->diffusers[torch]==0.25.0->-r requirements.txt (line 3)) (3.21.0)\n",
            "Requirement already satisfied: charset-normalizer<4,>=2 in /usr/local/lib/python3.11/dist-packages (from requests->transformers==4.44.0->-r requirements.txt (line 2)) (3.4.1)\n",
            "Requirement already satisfied: idna<4,>=2.5 in /usr/local/lib/python3.11/dist-packages (from requests->transformers==4.44.0->-r requirements.txt (line 2)) (3.10)\n",
            "Requirement already satisfied: urllib3<3,>=1.21.1 in /usr/local/lib/python3.11/dist-packages (from requests->transformers==4.44.0->-r requirements.txt (line 2)) (2.3.0)\n",
            "Requirement already satisfied: certifi>=2017.4.17 in /usr/local/lib/python3.11/dist-packages (from requests->transformers==4.44.0->-r requirements.txt (line 2)) (2024.12.14)\n",
            "Requirement already satisfied: aiohappyeyeballs>=2.3.0 in /usr/local/lib/python3.11/dist-packages (from aiohttp!=4.0.0a0,!=4.0.0a1->fsspec[http]>2021.06.0->pytorch-lightning==1.9.0->-r requirements.txt (line 8)) (2.4.4)\n",
            "Requirement already satisfied: aiosignal>=1.1.2 in /usr/local/lib/python3.11/dist-packages (from aiohttp!=4.0.0a0,!=4.0.0a1->fsspec[http]>2021.06.0->pytorch-lightning==1.9.0->-r requirements.txt (line 8)) (1.3.2)\n",
            "Requirement already satisfied: frozenlist>=1.1.1 in /usr/local/lib/python3.11/dist-packages (from aiohttp!=4.0.0a0,!=4.0.0a1->fsspec[http]>2021.06.0->pytorch-lightning==1.9.0->-r requirements.txt (line 8)) (1.5.0)\n",
            "Requirement already satisfied: multidict<7.0,>=4.5 in /usr/local/lib/python3.11/dist-packages (from aiohttp!=4.0.0a0,!=4.0.0a1->fsspec[http]>2021.06.0->pytorch-lightning==1.9.0->-r requirements.txt (line 8)) (6.1.0)\n",
            "Requirement already satisfied: propcache>=0.2.0 in /usr/local/lib/python3.11/dist-packages (from aiohttp!=4.0.0a0,!=4.0.0a1->fsspec[http]>2021.06.0->pytorch-lightning==1.9.0->-r requirements.txt (line 8)) (0.2.1)\n",
            "Requirement already satisfied: yarl<2.0,>=1.17.0 in /usr/local/lib/python3.11/dist-packages (from aiohttp!=4.0.0a0,!=4.0.0a1->fsspec[http]>2021.06.0->pytorch-lightning==1.9.0->-r requirements.txt (line 8)) (1.18.3)\n",
            "Using cached diffusers-0.25.0-py3-none-any.whl (1.8 MB)\n",
            "Using cached huggingface_hub-0.24.5-py3-none-any.whl (417 kB)\n",
            "Installing collected packages: library, huggingface-hub, diffusers\n",
            "  Attempting uninstall: library\n",
            "    Found existing installation: library 0.0.0\n",
            "    Uninstalling library-0.0.0:\n",
            "      Successfully uninstalled library-0.0.0\n",
            "  Running setup.py develop for library\n",
            "  Attempting uninstall: huggingface-hub\n",
            "    Found existing installation: huggingface-hub 0.27.1\n",
            "    Uninstalling huggingface-hub-0.27.1:\n",
            "      Successfully uninstalled huggingface-hub-0.27.1\n",
            "  Attempting uninstall: diffusers\n",
            "    Found existing installation: diffusers 0.33.0.dev0\n",
            "    Uninstalling diffusers-0.33.0.dev0:\n",
            "      Successfully uninstalled diffusers-0.33.0.dev0\n",
            "\u001b[31mERROR: pip's dependency resolver does not currently take into account all the packages that are installed. This behaviour is the source of the following dependency conflicts.\n",
            "peft 0.14.0 requires huggingface-hub>=0.25.0, but you have huggingface-hub 0.24.5 which is incompatible.\u001b[0m\u001b[31m\n",
            "\u001b[0mSuccessfully installed diffusers-0.25.0 huggingface-hub-0.24.5 library-0.0.0\n"
          ]
        }
      ],
      "source": [
        "%cd /content/fluxgym/sd-scripts/\n",
        "!pip install -r requirements.txt"
      ]
    },
    {
      "cell_type": "code",
      "execution_count": 2,
      "metadata": {
        "id": "keb-H6-tu6d8",
        "colab": {
          "base_uri": "https://localhost:8080/"
        },
        "outputId": "83e8a53c-a278-48c5-f25b-876262be29ba"
      },
      "outputs": [
        {
          "output_type": "stream",
          "name": "stdout",
          "text": [
            "/content/fluxgym\n",
            "Collecting git+https://github.com/huggingface/diffusers.git (from -r requirements.txt (line 2))\n",
            "  Cloning https://github.com/huggingface/diffusers.git to /tmp/pip-req-build-d8z8_3xm\n",
            "  Running command git clone --filter=blob:none --quiet https://github.com/huggingface/diffusers.git /tmp/pip-req-build-d8z8_3xm\n",
            "  Resolved https://github.com/huggingface/diffusers.git to commit 328e0d20a7b996f9bdb04180457eb08c1b42a76e\n",
            "  Installing build dependencies ... \u001b[?25l\u001b[?25hdone\n",
            "  Getting requirements to build wheel ... \u001b[?25l\u001b[?25hdone\n",
            "  Preparing metadata (pyproject.toml) ... \u001b[?25l\u001b[?25hdone\n",
            "Collecting gradio_logsview@ https://huggingface.co/spaces/cocktailpeanut/gradio_logsview/resolve/main/gradio_logsview-0.0.17-py3-none-any.whl (from -r requirements.txt (line 3))\n",
            "  Using cached https://huggingface.co/spaces/cocktailpeanut/gradio_logsview/resolve/main/gradio_logsview-0.0.17-py3-none-any.whl (324 kB)\n",
            "Requirement already satisfied: safetensors in /usr/local/lib/python3.11/dist-packages (from -r requirements.txt (line 1)) (0.4.4)\n",
            "Requirement already satisfied: transformers in /usr/local/lib/python3.11/dist-packages (from -r requirements.txt (line 4)) (4.44.0)\n",
            "Requirement already satisfied: lycoris-lora==1.8.3 in /usr/local/lib/python3.11/dist-packages (from -r requirements.txt (line 5)) (1.8.3)\n",
            "Requirement already satisfied: flatten_json in /usr/local/lib/python3.11/dist-packages (from -r requirements.txt (line 6)) (0.1.14)\n",
            "Requirement already satisfied: pyyaml in /usr/local/lib/python3.11/dist-packages (from -r requirements.txt (line 7)) (6.0.2)\n",
            "Requirement already satisfied: oyaml in /usr/local/lib/python3.11/dist-packages (from -r requirements.txt (line 8)) (1.0)\n",
            "Requirement already satisfied: tensorboard in /usr/local/lib/python3.11/dist-packages (from -r requirements.txt (line 9)) (2.17.1)\n",
            "Requirement already satisfied: kornia in /usr/local/lib/python3.11/dist-packages (from -r requirements.txt (line 10)) (0.8.0)\n",
            "Requirement already satisfied: invisible-watermark in /usr/local/lib/python3.11/dist-packages (from -r requirements.txt (line 11)) (0.2.0)\n",
            "Requirement already satisfied: einops in /usr/local/lib/python3.11/dist-packages (from -r requirements.txt (line 12)) (0.7.0)\n",
            "Requirement already satisfied: accelerate in /usr/local/lib/python3.11/dist-packages (from -r requirements.txt (line 13)) (0.33.0)\n",
            "Requirement already satisfied: toml in /usr/local/lib/python3.11/dist-packages (from -r requirements.txt (line 14)) (0.10.2)\n",
            "Requirement already satisfied: albumentations in /usr/local/lib/python3.11/dist-packages (from -r requirements.txt (line 15)) (1.4.20)\n",
            "Requirement already satisfied: pydantic in /usr/local/lib/python3.11/dist-packages (from -r requirements.txt (line 16)) (2.9.2)\n",
            "Requirement already satisfied: omegaconf in /usr/local/lib/python3.11/dist-packages (from -r requirements.txt (line 17)) (2.3.0)\n",
            "Requirement already satisfied: k-diffusion in /usr/local/lib/python3.11/dist-packages (from -r requirements.txt (line 18)) (0.1.1.post1)\n",
            "Requirement already satisfied: open_clip_torch in /usr/local/lib/python3.11/dist-packages (from -r requirements.txt (line 19)) (2.30.0)\n",
            "Requirement already satisfied: timm in /usr/local/lib/python3.11/dist-packages (from -r requirements.txt (line 20)) (1.0.13)\n",
            "Requirement already satisfied: prodigyopt in /usr/local/lib/python3.11/dist-packages (from -r requirements.txt (line 21)) (1.0)\n",
            "Requirement already satisfied: controlnet_aux==0.0.7 in /usr/local/lib/python3.11/dist-packages (from -r requirements.txt (line 22)) (0.0.7)\n",
            "Requirement already satisfied: python-dotenv in /usr/local/lib/python3.11/dist-packages (from -r requirements.txt (line 23)) (1.0.1)\n",
            "Requirement already satisfied: bitsandbytes in /usr/local/lib/python3.11/dist-packages (from -r requirements.txt (line 24)) (0.44.0)\n",
            "Requirement already satisfied: hf_transfer in /usr/local/lib/python3.11/dist-packages (from -r requirements.txt (line 25)) (0.1.9)\n",
            "Requirement already satisfied: lpips in /usr/local/lib/python3.11/dist-packages (from -r requirements.txt (line 26)) (0.1.4)\n",
            "Requirement already satisfied: pytorch_fid in /usr/local/lib/python3.11/dist-packages (from -r requirements.txt (line 27)) (0.3.0)\n",
            "Requirement already satisfied: optimum-quanto in /usr/local/lib/python3.11/dist-packages (from -r requirements.txt (line 28)) (0.2.6)\n",
            "Requirement already satisfied: sentencepiece in /usr/local/lib/python3.11/dist-packages (from -r requirements.txt (line 29)) (0.2.0)\n",
            "Requirement already satisfied: huggingface_hub in /usr/local/lib/python3.11/dist-packages (from -r requirements.txt (line 30)) (0.24.5)\n",
            "Requirement already satisfied: peft in /usr/local/lib/python3.11/dist-packages (from -r requirements.txt (line 31)) (0.14.0)\n",
            "Requirement already satisfied: gradio in /usr/local/lib/python3.11/dist-packages (from -r requirements.txt (line 32)) (4.44.1)\n",
            "Requirement already satisfied: python-slugify in /usr/local/lib/python3.11/dist-packages (from -r requirements.txt (line 33)) (8.0.4)\n",
            "Requirement already satisfied: imagesize in /usr/local/lib/python3.11/dist-packages (from -r requirements.txt (line 34)) (1.4.1)\n",
            "Requirement already satisfied: torch in /usr/local/lib/python3.11/dist-packages (from lycoris-lora==1.8.3->-r requirements.txt (line 5)) (2.5.1+cu121)\n",
            "Requirement already satisfied: annotated-types>=0.6.0 in /usr/local/lib/python3.11/dist-packages (from pydantic->-r requirements.txt (line 16)) (0.7.0)\n",
            "Requirement already satisfied: pydantic-core==2.23.4 in /usr/local/lib/python3.11/dist-packages (from pydantic->-r requirements.txt (line 16)) (2.23.4)\n",
            "Requirement already satisfied: typing-extensions>=4.6.1 in /usr/local/lib/python3.11/dist-packages (from pydantic->-r requirements.txt (line 16)) (4.12.2)\n",
            "Requirement already satisfied: importlib-metadata in /usr/local/lib/python3.11/dist-packages (from controlnet_aux==0.0.7->-r requirements.txt (line 22)) (8.5.0)\n",
            "Requirement already satisfied: scipy in /usr/local/lib/python3.11/dist-packages (from controlnet_aux==0.0.7->-r requirements.txt (line 22)) (1.13.1)\n",
            "Requirement already satisfied: opencv-python in /usr/local/lib/python3.11/dist-packages (from controlnet_aux==0.0.7->-r requirements.txt (line 22)) (4.8.1.78)\n",
            "Requirement already satisfied: filelock in /usr/local/lib/python3.11/dist-packages (from controlnet_aux==0.0.7->-r requirements.txt (line 22)) (3.16.1)\n",
            "Requirement already satisfied: numpy in /usr/local/lib/python3.11/dist-packages (from controlnet_aux==0.0.7->-r requirements.txt (line 22)) (1.26.4)\n",
            "Requirement already satisfied: Pillow in /usr/local/lib/python3.11/dist-packages (from controlnet_aux==0.0.7->-r requirements.txt (line 22)) (10.4.0)\n",
            "Requirement already satisfied: torchvision in /usr/local/lib/python3.11/dist-packages (from controlnet_aux==0.0.7->-r requirements.txt (line 22)) (0.20.1+cu121)\n",
            "Requirement already satisfied: scikit-image in /usr/local/lib/python3.11/dist-packages (from controlnet_aux==0.0.7->-r requirements.txt (line 22)) (0.25.0)\n",
            "Collecting huggingface_hub (from -r requirements.txt (line 30))\n",
            "  Using cached huggingface_hub-0.27.1-py3-none-any.whl.metadata (13 kB)\n",
            "Requirement already satisfied: regex!=2019.12.17 in /usr/local/lib/python3.11/dist-packages (from diffusers==0.33.0.dev0->-r requirements.txt (line 2)) (2024.11.6)\n",
            "Requirement already satisfied: requests in /usr/local/lib/python3.11/dist-packages (from diffusers==0.33.0.dev0->-r requirements.txt (line 2)) (2.32.3)\n",
            "Requirement already satisfied: packaging>=20.0 in /usr/local/lib/python3.11/dist-packages (from transformers->-r requirements.txt (line 4)) (24.2)\n",
            "Requirement already satisfied: tokenizers<0.20,>=0.19 in /usr/local/lib/python3.11/dist-packages (from transformers->-r requirements.txt (line 4)) (0.19.1)\n",
            "Requirement already satisfied: tqdm>=4.27 in /usr/local/lib/python3.11/dist-packages (from transformers->-r requirements.txt (line 4)) (4.67.1)\n",
            "Requirement already satisfied: six in /usr/local/lib/python3.11/dist-packages (from flatten_json->-r requirements.txt (line 6)) (1.17.0)\n",
            "Requirement already satisfied: absl-py>=0.4 in /usr/local/lib/python3.11/dist-packages (from tensorboard->-r requirements.txt (line 9)) (1.4.0)\n",
            "Requirement already satisfied: grpcio>=1.48.2 in /usr/local/lib/python3.11/dist-packages (from tensorboard->-r requirements.txt (line 9)) (1.69.0)\n",
            "Requirement already satisfied: markdown>=2.6.8 in /usr/local/lib/python3.11/dist-packages (from tensorboard->-r requirements.txt (line 9)) (3.7)\n",
            "Requirement already satisfied: protobuf!=4.24.0,>=3.19.6 in /usr/local/lib/python3.11/dist-packages (from tensorboard->-r requirements.txt (line 9)) (4.25.5)\n",
            "Requirement already satisfied: setuptools>=41.0.0 in /usr/local/lib/python3.11/dist-packages (from tensorboard->-r requirements.txt (line 9)) (75.1.0)\n",
            "Requirement already satisfied: tensorboard-data-server<0.8.0,>=0.7.0 in /usr/local/lib/python3.11/dist-packages (from tensorboard->-r requirements.txt (line 9)) (0.7.2)\n",
            "Requirement already satisfied: werkzeug>=1.0.1 in /usr/local/lib/python3.11/dist-packages (from tensorboard->-r requirements.txt (line 9)) (3.1.3)\n",
            "Requirement already satisfied: kornia_rs>=0.1.0 in /usr/local/lib/python3.11/dist-packages (from kornia->-r requirements.txt (line 10)) (0.1.8)\n",
            "Requirement already satisfied: PyWavelets>=1.1.1 in /usr/local/lib/python3.11/dist-packages (from invisible-watermark->-r requirements.txt (line 11)) (1.8.0)\n",
            "Requirement already satisfied: psutil in /usr/local/lib/python3.11/dist-packages (from accelerate->-r requirements.txt (line 13)) (5.9.5)\n",
            "Requirement already satisfied: albucore==0.0.19 in /usr/local/lib/python3.11/dist-packages (from albumentations->-r requirements.txt (line 15)) (0.0.19)\n",
            "Requirement already satisfied: eval-type-backport in /usr/local/lib/python3.11/dist-packages (from albumentations->-r requirements.txt (line 15)) (0.2.2)\n",
            "Requirement already satisfied: opencv-python-headless>=4.9.0.80 in /usr/local/lib/python3.11/dist-packages (from albumentations->-r requirements.txt (line 15)) (4.10.0.84)\n",
            "Requirement already satisfied: stringzilla>=3.10.4 in /usr/local/lib/python3.11/dist-packages (from albucore==0.0.19->albumentations->-r requirements.txt (line 15)) (3.11.3)\n",
            "Requirement already satisfied: antlr4-python3-runtime==4.9.* in /usr/local/lib/python3.11/dist-packages (from omegaconf->-r requirements.txt (line 17)) (4.9.3)\n",
            "Requirement already satisfied: clean-fid in /usr/local/lib/python3.11/dist-packages (from k-diffusion->-r requirements.txt (line 18)) (0.1.35)\n",
            "Requirement already satisfied: clip-anytorch in /usr/local/lib/python3.11/dist-packages (from k-diffusion->-r requirements.txt (line 18)) (2.6.0)\n",
            "Requirement already satisfied: dctorch in /usr/local/lib/python3.11/dist-packages (from k-diffusion->-r requirements.txt (line 18)) (0.1.2)\n",
            "Requirement already satisfied: jsonmerge in /usr/local/lib/python3.11/dist-packages (from k-diffusion->-r requirements.txt (line 18)) (1.9.2)\n",
            "Requirement already satisfied: torchdiffeq in /usr/local/lib/python3.11/dist-packages (from k-diffusion->-r requirements.txt (line 18)) (0.2.5)\n",
            "Requirement already satisfied: torchsde in /usr/local/lib/python3.11/dist-packages (from k-diffusion->-r requirements.txt (line 18)) (0.2.6)\n",
            "Requirement already satisfied: wandb in /usr/local/lib/python3.11/dist-packages (from k-diffusion->-r requirements.txt (line 18)) (0.19.2)\n",
            "Requirement already satisfied: ftfy in /usr/local/lib/python3.11/dist-packages (from open_clip_torch->-r requirements.txt (line 19)) (6.1.1)\n",
            "Requirement already satisfied: ninja in /usr/local/lib/python3.11/dist-packages (from optimum-quanto->-r requirements.txt (line 28)) (1.11.1.3)\n",
            "Requirement already satisfied: fsspec>=2023.5.0 in /usr/local/lib/python3.11/dist-packages (from huggingface_hub->-r requirements.txt (line 30)) (2024.10.0)\n",
            "Requirement already satisfied: aiofiles<24.0,>=22.0 in /usr/local/lib/python3.11/dist-packages (from gradio->-r requirements.txt (line 32)) (23.2.1)\n",
            "Requirement already satisfied: anyio<5.0,>=3.0 in /usr/local/lib/python3.11/dist-packages (from gradio->-r requirements.txt (line 32)) (3.7.1)\n",
            "Requirement already satisfied: fastapi<1.0 in /usr/local/lib/python3.11/dist-packages (from gradio->-r requirements.txt (line 32)) (0.115.6)\n",
            "Requirement already satisfied: ffmpy in /usr/local/lib/python3.11/dist-packages (from gradio->-r requirements.txt (line 32)) (0.5.0)\n",
            "Requirement already satisfied: gradio-client==1.3.0 in /usr/local/lib/python3.11/dist-packages (from gradio->-r requirements.txt (line 32)) (1.3.0)\n",
            "Requirement already satisfied: httpx>=0.24.1 in /usr/local/lib/python3.11/dist-packages (from gradio->-r requirements.txt (line 32)) (0.28.1)\n",
            "Requirement already satisfied: importlib-resources<7.0,>=1.3 in /usr/local/lib/python3.11/dist-packages (from gradio->-r requirements.txt (line 32)) (6.5.2)\n",
            "Requirement already satisfied: jinja2<4.0 in /usr/local/lib/python3.11/dist-packages (from gradio->-r requirements.txt (line 32)) (3.1.5)\n",
            "Requirement already satisfied: markupsafe~=2.0 in /usr/local/lib/python3.11/dist-packages (from gradio->-r requirements.txt (line 32)) (2.1.5)\n",
            "Requirement already satisfied: matplotlib~=3.0 in /usr/local/lib/python3.11/dist-packages (from gradio->-r requirements.txt (line 32)) (3.10.0)\n",
            "Requirement already satisfied: orjson~=3.0 in /usr/local/lib/python3.11/dist-packages (from gradio->-r requirements.txt (line 32)) (3.10.14)\n",
            "Requirement already satisfied: pandas<3.0,>=1.0 in /usr/local/lib/python3.11/dist-packages (from gradio->-r requirements.txt (line 32)) (2.2.2)\n",
            "Requirement already satisfied: pydub in /usr/local/lib/python3.11/dist-packages (from gradio->-r requirements.txt (line 32)) (0.25.1)\n",
            "Requirement already satisfied: python-multipart>=0.0.9 in /usr/local/lib/python3.11/dist-packages (from gradio->-r requirements.txt (line 32)) (0.0.20)\n",
            "Requirement already satisfied: ruff>=0.2.2 in /usr/local/lib/python3.11/dist-packages (from gradio->-r requirements.txt (line 32)) (0.9.2)\n",
            "Requirement already satisfied: semantic-version~=2.0 in /usr/local/lib/python3.11/dist-packages (from gradio->-r requirements.txt (line 32)) (2.10.0)\n",
            "Requirement already satisfied: tomlkit==0.12.0 in /usr/local/lib/python3.11/dist-packages (from gradio->-r requirements.txt (line 32)) (0.12.0)\n",
            "Requirement already satisfied: typer<1.0,>=0.12 in /usr/local/lib/python3.11/dist-packages (from gradio->-r requirements.txt (line 32)) (0.15.1)\n",
            "Requirement already satisfied: urllib3~=2.0 in /usr/local/lib/python3.11/dist-packages (from gradio->-r requirements.txt (line 32)) (2.3.0)\n",
            "Requirement already satisfied: uvicorn>=0.14.0 in /usr/local/lib/python3.11/dist-packages (from gradio->-r requirements.txt (line 32)) (0.34.0)\n",
            "Requirement already satisfied: websockets<13.0,>=10.0 in /usr/local/lib/python3.11/dist-packages (from gradio-client==1.3.0->gradio->-r requirements.txt (line 32)) (12.0)\n",
            "Requirement already satisfied: text-unidecode>=1.3 in /usr/local/lib/python3.11/dist-packages (from python-slugify->-r requirements.txt (line 33)) (1.3)\n",
            "Requirement already satisfied: idna>=2.8 in /usr/local/lib/python3.11/dist-packages (from anyio<5.0,>=3.0->gradio->-r requirements.txt (line 32)) (3.10)\n",
            "Requirement already satisfied: sniffio>=1.1 in /usr/local/lib/python3.11/dist-packages (from anyio<5.0,>=3.0->gradio->-r requirements.txt (line 32)) (1.3.1)\n",
            "Requirement already satisfied: starlette<0.42.0,>=0.40.0 in /usr/local/lib/python3.11/dist-packages (from fastapi<1.0->gradio->-r requirements.txt (line 32)) (0.41.3)\n",
            "Requirement already satisfied: certifi in /usr/local/lib/python3.11/dist-packages (from httpx>=0.24.1->gradio->-r requirements.txt (line 32)) (2024.12.14)\n",
            "Requirement already satisfied: httpcore==1.* in /usr/local/lib/python3.11/dist-packages (from httpx>=0.24.1->gradio->-r requirements.txt (line 32)) (1.0.7)\n",
            "Requirement already satisfied: h11<0.15,>=0.13 in /usr/local/lib/python3.11/dist-packages (from httpcore==1.*->httpx>=0.24.1->gradio->-r requirements.txt (line 32)) (0.14.0)\n",
            "Requirement already satisfied: contourpy>=1.0.1 in /usr/local/lib/python3.11/dist-packages (from matplotlib~=3.0->gradio->-r requirements.txt (line 32)) (1.3.1)\n",
            "Requirement already satisfied: cycler>=0.10 in /usr/local/lib/python3.11/dist-packages (from matplotlib~=3.0->gradio->-r requirements.txt (line 32)) (0.12.1)\n",
            "Requirement already satisfied: fonttools>=4.22.0 in /usr/local/lib/python3.11/dist-packages (from matplotlib~=3.0->gradio->-r requirements.txt (line 32)) (4.55.3)\n",
            "Requirement already satisfied: kiwisolver>=1.3.1 in /usr/local/lib/python3.11/dist-packages (from matplotlib~=3.0->gradio->-r requirements.txt (line 32)) (1.4.8)\n",
            "Requirement already satisfied: pyparsing>=2.3.1 in /usr/local/lib/python3.11/dist-packages (from matplotlib~=3.0->gradio->-r requirements.txt (line 32)) (3.2.1)\n",
            "Requirement already satisfied: python-dateutil>=2.7 in /usr/local/lib/python3.11/dist-packages (from matplotlib~=3.0->gradio->-r requirements.txt (line 32)) (2.8.2)\n",
            "Requirement already satisfied: pytz>=2020.1 in /usr/local/lib/python3.11/dist-packages (from pandas<3.0,>=1.0->gradio->-r requirements.txt (line 32)) (2024.2)\n",
            "Requirement already satisfied: tzdata>=2022.7 in /usr/local/lib/python3.11/dist-packages (from pandas<3.0,>=1.0->gradio->-r requirements.txt (line 32)) (2024.2)\n",
            "Requirement already satisfied: networkx in /usr/local/lib/python3.11/dist-packages (from torch->lycoris-lora==1.8.3->-r requirements.txt (line 5)) (3.4.2)\n",
            "Requirement already satisfied: nvidia-cuda-nvrtc-cu12==12.1.105 in /usr/local/lib/python3.11/dist-packages (from torch->lycoris-lora==1.8.3->-r requirements.txt (line 5)) (12.1.105)\n",
            "Requirement already satisfied: nvidia-cuda-runtime-cu12==12.1.105 in /usr/local/lib/python3.11/dist-packages (from torch->lycoris-lora==1.8.3->-r requirements.txt (line 5)) (12.1.105)\n",
            "Requirement already satisfied: nvidia-cuda-cupti-cu12==12.1.105 in /usr/local/lib/python3.11/dist-packages (from torch->lycoris-lora==1.8.3->-r requirements.txt (line 5)) (12.1.105)\n",
            "Requirement already satisfied: nvidia-cudnn-cu12==9.1.0.70 in /usr/local/lib/python3.11/dist-packages (from torch->lycoris-lora==1.8.3->-r requirements.txt (line 5)) (9.1.0.70)\n",
            "Requirement already satisfied: nvidia-cublas-cu12==12.1.3.1 in /usr/local/lib/python3.11/dist-packages (from torch->lycoris-lora==1.8.3->-r requirements.txt (line 5)) (12.1.3.1)\n",
            "Requirement already satisfied: nvidia-cufft-cu12==11.0.2.54 in /usr/local/lib/python3.11/dist-packages (from torch->lycoris-lora==1.8.3->-r requirements.txt (line 5)) (11.0.2.54)\n",
            "Requirement already satisfied: nvidia-curand-cu12==10.3.2.106 in /usr/local/lib/python3.11/dist-packages (from torch->lycoris-lora==1.8.3->-r requirements.txt (line 5)) (10.3.2.106)\n",
            "Requirement already satisfied: nvidia-cusolver-cu12==11.4.5.107 in /usr/local/lib/python3.11/dist-packages (from torch->lycoris-lora==1.8.3->-r requirements.txt (line 5)) (11.4.5.107)\n",
            "Requirement already satisfied: nvidia-cusparse-cu12==12.1.0.106 in /usr/local/lib/python3.11/dist-packages (from torch->lycoris-lora==1.8.3->-r requirements.txt (line 5)) (12.1.0.106)\n",
            "Requirement already satisfied: nvidia-nccl-cu12==2.21.5 in /usr/local/lib/python3.11/dist-packages (from torch->lycoris-lora==1.8.3->-r requirements.txt (line 5)) (2.21.5)\n",
            "Requirement already satisfied: nvidia-nvtx-cu12==12.1.105 in /usr/local/lib/python3.11/dist-packages (from torch->lycoris-lora==1.8.3->-r requirements.txt (line 5)) (12.1.105)\n",
            "Requirement already satisfied: triton==3.1.0 in /usr/local/lib/python3.11/dist-packages (from torch->lycoris-lora==1.8.3->-r requirements.txt (line 5)) (3.1.0)\n",
            "Requirement already satisfied: sympy==1.13.1 in /usr/local/lib/python3.11/dist-packages (from torch->lycoris-lora==1.8.3->-r requirements.txt (line 5)) (1.13.1)\n",
            "Requirement already satisfied: nvidia-nvjitlink-cu12 in /usr/local/lib/python3.11/dist-packages (from nvidia-cusolver-cu12==11.4.5.107->torch->lycoris-lora==1.8.3->-r requirements.txt (line 5)) (12.6.85)\n",
            "Requirement already satisfied: mpmath<1.4,>=1.1.0 in /usr/local/lib/python3.11/dist-packages (from sympy==1.13.1->torch->lycoris-lora==1.8.3->-r requirements.txt (line 5)) (1.3.0)\n",
            "Requirement already satisfied: click>=8.0.0 in /usr/local/lib/python3.11/dist-packages (from typer<1.0,>=0.12->gradio->-r requirements.txt (line 32)) (8.1.8)\n",
            "Requirement already satisfied: shellingham>=1.3.0 in /usr/local/lib/python3.11/dist-packages (from typer<1.0,>=0.12->gradio->-r requirements.txt (line 32)) (1.5.4)\n",
            "Requirement already satisfied: rich>=10.11.0 in /usr/local/lib/python3.11/dist-packages (from typer<1.0,>=0.12->gradio->-r requirements.txt (line 32)) (13.7.0)\n",
            "Requirement already satisfied: wcwidth>=0.2.5 in /usr/local/lib/python3.11/dist-packages (from ftfy->open_clip_torch->-r requirements.txt (line 19)) (0.2.13)\n",
            "Requirement already satisfied: zipp>=3.20 in /usr/local/lib/python3.11/dist-packages (from importlib-metadata->controlnet_aux==0.0.7->-r requirements.txt (line 22)) (3.21.0)\n",
            "Requirement already satisfied: jsonschema>2.4.0 in /usr/local/lib/python3.11/dist-packages (from jsonmerge->k-diffusion->-r requirements.txt (line 18)) (4.23.0)\n",
            "Requirement already satisfied: charset-normalizer<4,>=2 in /usr/local/lib/python3.11/dist-packages (from requests->diffusers==0.33.0.dev0->-r requirements.txt (line 2)) (3.4.1)\n",
            "Requirement already satisfied: imageio!=2.35.0,>=2.33 in /usr/local/lib/python3.11/dist-packages (from scikit-image->controlnet_aux==0.0.7->-r requirements.txt (line 22)) (2.36.1)\n",
            "Requirement already satisfied: tifffile>=2022.8.12 in /usr/local/lib/python3.11/dist-packages (from scikit-image->controlnet_aux==0.0.7->-r requirements.txt (line 22)) (2024.12.12)\n",
            "Requirement already satisfied: lazy-loader>=0.4 in /usr/local/lib/python3.11/dist-packages (from scikit-image->controlnet_aux==0.0.7->-r requirements.txt (line 22)) (0.4)\n",
            "Requirement already satisfied: trampoline>=0.1.2 in /usr/local/lib/python3.11/dist-packages (from torchsde->k-diffusion->-r requirements.txt (line 18)) (0.1.2)\n",
            "Requirement already satisfied: docker-pycreds>=0.4.0 in /usr/local/lib/python3.11/dist-packages (from wandb->k-diffusion->-r requirements.txt (line 18)) (0.4.0)\n",
            "Requirement already satisfied: gitpython!=3.1.29,>=1.0.0 in /usr/local/lib/python3.11/dist-packages (from wandb->k-diffusion->-r requirements.txt (line 18)) (3.1.44)\n",
            "Requirement already satisfied: platformdirs in /usr/local/lib/python3.11/dist-packages (from wandb->k-diffusion->-r requirements.txt (line 18)) (4.3.6)\n",
            "Requirement already satisfied: sentry-sdk>=2.0.0 in /usr/local/lib/python3.11/dist-packages (from wandb->k-diffusion->-r requirements.txt (line 18)) (2.19.2)\n",
            "Requirement already satisfied: setproctitle in /usr/local/lib/python3.11/dist-packages (from wandb->k-diffusion->-r requirements.txt (line 18)) (1.3.4)\n",
            "Requirement already satisfied: gitdb<5,>=4.0.1 in /usr/local/lib/python3.11/dist-packages (from gitpython!=3.1.29,>=1.0.0->wandb->k-diffusion->-r requirements.txt (line 18)) (4.0.12)\n",
            "Requirement already satisfied: attrs>=22.2.0 in /usr/local/lib/python3.11/dist-packages (from jsonschema>2.4.0->jsonmerge->k-diffusion->-r requirements.txt (line 18)) (24.3.0)\n",
            "Requirement already satisfied: jsonschema-specifications>=2023.03.6 in /usr/local/lib/python3.11/dist-packages (from jsonschema>2.4.0->jsonmerge->k-diffusion->-r requirements.txt (line 18)) (2024.10.1)\n",
            "Requirement already satisfied: referencing>=0.28.4 in /usr/local/lib/python3.11/dist-packages (from jsonschema>2.4.0->jsonmerge->k-diffusion->-r requirements.txt (line 18)) (0.35.1)\n",
            "Requirement already satisfied: rpds-py>=0.7.1 in /usr/local/lib/python3.11/dist-packages (from jsonschema>2.4.0->jsonmerge->k-diffusion->-r requirements.txt (line 18)) (0.22.3)\n",
            "Requirement already satisfied: markdown-it-py>=2.2.0 in /usr/local/lib/python3.11/dist-packages (from rich>=10.11.0->typer<1.0,>=0.12->gradio->-r requirements.txt (line 32)) (3.0.0)\n",
            "Requirement already satisfied: pygments<3.0.0,>=2.13.0 in /usr/local/lib/python3.11/dist-packages (from rich>=10.11.0->typer<1.0,>=0.12->gradio->-r requirements.txt (line 32)) (2.18.0)\n",
            "Requirement already satisfied: smmap<6,>=3.0.1 in /usr/local/lib/python3.11/dist-packages (from gitdb<5,>=4.0.1->gitpython!=3.1.29,>=1.0.0->wandb->k-diffusion->-r requirements.txt (line 18)) (5.0.2)\n",
            "Requirement already satisfied: mdurl~=0.1 in /usr/local/lib/python3.11/dist-packages (from markdown-it-py>=2.2.0->rich>=10.11.0->typer<1.0,>=0.12->gradio->-r requirements.txt (line 32)) (0.1.2)\n",
            "Using cached huggingface_hub-0.27.1-py3-none-any.whl (450 kB)\n",
            "Building wheels for collected packages: diffusers\n",
            "  Building wheel for diffusers (pyproject.toml) ... \u001b[?25l\u001b[?25hdone\n",
            "  Created wheel for diffusers: filename=diffusers-0.33.0.dev0-py3-none-any.whl size=3280822 sha256=8de4975b15a9fb2dd7fcfc8b4be4a6490be7de865d118a89c607fdb1b4bd125d\n",
            "  Stored in directory: /tmp/pip-ephem-wheel-cache-j52c8d7k/wheels/d2/5c/5f/16639722ea17ecb73ab461b81718584bac08af2801619786b9\n",
            "Successfully built diffusers\n",
            "Installing collected packages: huggingface_hub, diffusers\n",
            "  Attempting uninstall: huggingface_hub\n",
            "    Found existing installation: huggingface-hub 0.24.5\n",
            "    Uninstalling huggingface-hub-0.24.5:\n",
            "      Successfully uninstalled huggingface-hub-0.24.5\n",
            "  Attempting uninstall: diffusers\n",
            "    Found existing installation: diffusers 0.25.0\n",
            "    Uninstalling diffusers-0.25.0:\n",
            "      Successfully uninstalled diffusers-0.25.0\n",
            "Successfully installed diffusers-0.33.0.dev0 huggingface_hub-0.27.1\n"
          ]
        }
      ],
      "source": [
        "%cd /content/fluxgym/\n",
        "!pip install -r requirements.txt"
      ]
    },
    {
      "cell_type": "code",
      "execution_count": 3,
      "metadata": {
        "id": "NxoJxm3zuBDL",
        "collapsed": true,
        "colab": {
          "base_uri": "https://localhost:8080/"
        },
        "outputId": "df56be6c-7eed-47bc-866f-a83746487c39"
      },
      "outputs": [
        {
          "output_type": "stream",
          "name": "stdout",
          "text": [
            "Looking in indexes: https://download.pytorch.org/whl/cu121\n",
            "Requirement already satisfied: torch in /usr/local/lib/python3.11/dist-packages (2.5.1+cu121)\n",
            "Requirement already satisfied: torchvision in /usr/local/lib/python3.11/dist-packages (0.20.1+cu121)\n",
            "Requirement already satisfied: torchaudio in /usr/local/lib/python3.11/dist-packages (2.5.1+cu121)\n",
            "Requirement already satisfied: filelock in /usr/local/lib/python3.11/dist-packages (from torch) (3.16.1)\n",
            "Requirement already satisfied: typing-extensions>=4.8.0 in /usr/local/lib/python3.11/dist-packages (from torch) (4.12.2)\n",
            "Requirement already satisfied: networkx in /usr/local/lib/python3.11/dist-packages (from torch) (3.4.2)\n",
            "Requirement already satisfied: jinja2 in /usr/local/lib/python3.11/dist-packages (from torch) (3.1.5)\n",
            "Requirement already satisfied: fsspec in /usr/local/lib/python3.11/dist-packages (from torch) (2024.10.0)\n",
            "Requirement already satisfied: nvidia-cuda-nvrtc-cu12==12.1.105 in /usr/local/lib/python3.11/dist-packages (from torch) (12.1.105)\n",
            "Requirement already satisfied: nvidia-cuda-runtime-cu12==12.1.105 in /usr/local/lib/python3.11/dist-packages (from torch) (12.1.105)\n",
            "Requirement already satisfied: nvidia-cuda-cupti-cu12==12.1.105 in /usr/local/lib/python3.11/dist-packages (from torch) (12.1.105)\n",
            "Requirement already satisfied: nvidia-cudnn-cu12==9.1.0.70 in /usr/local/lib/python3.11/dist-packages (from torch) (9.1.0.70)\n",
            "Requirement already satisfied: nvidia-cublas-cu12==12.1.3.1 in /usr/local/lib/python3.11/dist-packages (from torch) (12.1.3.1)\n",
            "Requirement already satisfied: nvidia-cufft-cu12==11.0.2.54 in /usr/local/lib/python3.11/dist-packages (from torch) (11.0.2.54)\n",
            "Requirement already satisfied: nvidia-curand-cu12==10.3.2.106 in /usr/local/lib/python3.11/dist-packages (from torch) (10.3.2.106)\n",
            "Requirement already satisfied: nvidia-cusolver-cu12==11.4.5.107 in /usr/local/lib/python3.11/dist-packages (from torch) (11.4.5.107)\n",
            "Requirement already satisfied: nvidia-cusparse-cu12==12.1.0.106 in /usr/local/lib/python3.11/dist-packages (from torch) (12.1.0.106)\n",
            "Requirement already satisfied: nvidia-nccl-cu12==2.21.5 in /usr/local/lib/python3.11/dist-packages (from torch) (2.21.5)\n",
            "Requirement already satisfied: nvidia-nvtx-cu12==12.1.105 in /usr/local/lib/python3.11/dist-packages (from torch) (12.1.105)\n",
            "Requirement already satisfied: triton==3.1.0 in /usr/local/lib/python3.11/dist-packages (from torch) (3.1.0)\n",
            "Requirement already satisfied: sympy==1.13.1 in /usr/local/lib/python3.11/dist-packages (from torch) (1.13.1)\n",
            "Requirement already satisfied: nvidia-nvjitlink-cu12 in /usr/local/lib/python3.11/dist-packages (from nvidia-cusolver-cu12==11.4.5.107->torch) (12.6.85)\n",
            "Requirement already satisfied: mpmath<1.4,>=1.1.0 in /usr/local/lib/python3.11/dist-packages (from sympy==1.13.1->torch) (1.3.0)\n",
            "Requirement already satisfied: numpy in /usr/local/lib/python3.11/dist-packages (from torchvision) (1.26.4)\n",
            "Requirement already satisfied: pillow!=8.3.*,>=5.3.0 in /usr/local/lib/python3.11/dist-packages (from torchvision) (10.4.0)\n",
            "Requirement already satisfied: MarkupSafe>=2.0 in /usr/local/lib/python3.11/dist-packages (from jinja2->torch) (2.1.5)\n"
          ]
        }
      ],
      "source": [
        "!pip install --pre torch torchvision torchaudio --index-url https://download.pytorch.org/whl/cu121"
      ]
    },
    {
      "cell_type": "markdown",
      "source": [
        "# **Download the models needed for training**"
      ],
      "metadata": {
        "id": "3qsySAjNj-PG"
      }
    },
    {
      "cell_type": "code",
      "execution_count": 7,
      "metadata": {
        "id": "lwZGQcOD5Rpi",
        "collapsed": true,
        "colab": {
          "base_uri": "https://localhost:8080/"
        },
        "outputId": "4fab3e2d-574e-4a64-fad2-260f3842d7ea"
      },
      "outputs": [
        {
          "output_type": "stream",
          "name": "stdout",
          "text": [
            "--2025-01-19 15:16:13--  https://huggingface.co/Kijai/flux-fp8/resolve/main/flux1-dev-fp8.safetensors\n",
            "Resolving huggingface.co (huggingface.co)... 13.35.202.121, 13.35.202.97, 13.35.202.34, ...\n",
            "Connecting to huggingface.co (huggingface.co)|13.35.202.121|:443... connected.\n",
            "HTTP request sent, awaiting response... 302 Found\n",
            "Location: https://cdn-lfs-us-1.hf.co/repos/fa/7f/fa7f815f89d4b2bcb4ae950e05293cb2f1e1621038b996c0a9829dbdf2a8da85/1be961341be8f5307ef26c787199f80bf4e0de3c1c0b4617095aa6ee5550dfce?response-content-disposition=inline%3B+filename*%3DUTF-8%27%27flux1-dev-fp8.safetensors%3B+filename%3D%22flux1-dev-fp8.safetensors%22%3B&Expires=1737558973&Policy=eyJTdGF0ZW1lbnQiOlt7IkNvbmRpdGlvbiI6eyJEYXRlTGVzc1RoYW4iOnsiQVdTOkVwb2NoVGltZSI6MTczNzU1ODk3M319LCJSZXNvdXJjZSI6Imh0dHBzOi8vY2RuLWxmcy11cy0xLmhmLmNvL3JlcG9zL2ZhLzdmL2ZhN2Y4MTVmODlkNGIyYmNiNGFlOTUwZTA1MjkzY2IyZjFlMTYyMTAzOGI5OTZjMGE5ODI5ZGJkZjJhOGRhODUvMWJlOTYxMzQxYmU4ZjUzMDdlZjI2Yzc4NzE5OWY4MGJmNGUwZGUzYzFjMGI0NjE3MDk1YWE2ZWU1NTUwZGZjZT9yZXNwb25zZS1jb250ZW50LWRpc3Bvc2l0aW9uPSoifV19&Signature=DRYrltVZNSEMyb3OPE2eTIGfFzVTyMdPgeOIG%7Et9vW1qmKXcATHDisK8muadnvBI8BjyPoCHmUxb%7EF2%7EHJ0GpdCJeCeAp2UrQxXJs6d2mgrf5J2WZimFZPKYDCpvZ-S69wChYVAP9Ad%7EqAVvzBkzn4xbE-Mn%7E4QtsaEFQjKixAdJxKCQ1VLQgm81-pzUSWVPcmteFrewCfS4Ead0Va3GZnlLdalckogD5tScFrqS8CeKmM%7Ew8gNPA3i%7Euq0iyU3c75726QdzhvJhAM6cb79Y1TSum70YzP5BjcegCbREsISoczWUGtfVsb0mNMchI4AhwbwACPk-TmRH38s34ADl0A__&Key-Pair-Id=K24J24Z295AEI9 [following]\n",
            "--2025-01-19 15:16:13--  https://cdn-lfs-us-1.hf.co/repos/fa/7f/fa7f815f89d4b2bcb4ae950e05293cb2f1e1621038b996c0a9829dbdf2a8da85/1be961341be8f5307ef26c787199f80bf4e0de3c1c0b4617095aa6ee5550dfce?response-content-disposition=inline%3B+filename*%3DUTF-8%27%27flux1-dev-fp8.safetensors%3B+filename%3D%22flux1-dev-fp8.safetensors%22%3B&Expires=1737558973&Policy=eyJTdGF0ZW1lbnQiOlt7IkNvbmRpdGlvbiI6eyJEYXRlTGVzc1RoYW4iOnsiQVdTOkVwb2NoVGltZSI6MTczNzU1ODk3M319LCJSZXNvdXJjZSI6Imh0dHBzOi8vY2RuLWxmcy11cy0xLmhmLmNvL3JlcG9zL2ZhLzdmL2ZhN2Y4MTVmODlkNGIyYmNiNGFlOTUwZTA1MjkzY2IyZjFlMTYyMTAzOGI5OTZjMGE5ODI5ZGJkZjJhOGRhODUvMWJlOTYxMzQxYmU4ZjUzMDdlZjI2Yzc4NzE5OWY4MGJmNGUwZGUzYzFjMGI0NjE3MDk1YWE2ZWU1NTUwZGZjZT9yZXNwb25zZS1jb250ZW50LWRpc3Bvc2l0aW9uPSoifV19&Signature=DRYrltVZNSEMyb3OPE2eTIGfFzVTyMdPgeOIG%7Et9vW1qmKXcATHDisK8muadnvBI8BjyPoCHmUxb%7EF2%7EHJ0GpdCJeCeAp2UrQxXJs6d2mgrf5J2WZimFZPKYDCpvZ-S69wChYVAP9Ad%7EqAVvzBkzn4xbE-Mn%7E4QtsaEFQjKixAdJxKCQ1VLQgm81-pzUSWVPcmteFrewCfS4Ead0Va3GZnlLdalckogD5tScFrqS8CeKmM%7Ew8gNPA3i%7Euq0iyU3c75726QdzhvJhAM6cb79Y1TSum70YzP5BjcegCbREsISoczWUGtfVsb0mNMchI4AhwbwACPk-TmRH38s34ADl0A__&Key-Pair-Id=K24J24Z295AEI9\n",
            "Resolving cdn-lfs-us-1.hf.co (cdn-lfs-us-1.hf.co)... 13.35.202.117, 13.35.202.120, 13.35.202.18, ...\n",
            "Connecting to cdn-lfs-us-1.hf.co (cdn-lfs-us-1.hf.co)|13.35.202.117|:443... connected.\n",
            "HTTP request sent, awaiting response... 200 OK\n",
            "Length: 11901525888 (11G) [binary/octet-stream]\n",
            "Saving to: ‘/content/fluxgym/models/unet/flux1-dev-fp8.safetensors’\n",
            "\n",
            "/content/fluxgym/mo 100%[===================>]  11.08G  40.8MB/s    in 4m 44s  \n",
            "\n",
            "2025-01-19 15:20:57 (40.0 MB/s) - ‘/content/fluxgym/models/unet/flux1-dev-fp8.safetensors’ saved [11901525888/11901525888]\n",
            "\n",
            "--2025-01-19 15:20:57--  https://huggingface.co/comfyanonymous/flux_text_encoders/resolve/main/clip_l.safetensors?download=true\n",
            "Resolving huggingface.co (huggingface.co)... 13.249.213.24, 13.249.213.95, 13.249.213.119, ...\n",
            "Connecting to huggingface.co (huggingface.co)|13.249.213.24|:443... connected.\n",
            "HTTP request sent, awaiting response... 302 Found\n",
            "Location: https://cdn-lfs-us-1.hf.co/repos/f0/72/f072b3fc381065339926f6194e8ae71b6a464d596c9495100c3c8730729ec94e/660c6f5b1abae9dc498ac2d21e1347d2abdb0cf6c0c0c8576cd796491d9a6cdd?response-content-disposition=attachment%3B+filename*%3DUTF-8%27%27clip_l.safetensors%3B+filename%3D%22clip_l.safetensors%22%3B&Expires=1737559258&Policy=eyJTdGF0ZW1lbnQiOlt7IkNvbmRpdGlvbiI6eyJEYXRlTGVzc1RoYW4iOnsiQVdTOkVwb2NoVGltZSI6MTczNzU1OTI1OH19LCJSZXNvdXJjZSI6Imh0dHBzOi8vY2RuLWxmcy11cy0xLmhmLmNvL3JlcG9zL2YwLzcyL2YwNzJiM2ZjMzgxMDY1MzM5OTI2ZjYxOTRlOGFlNzFiNmE0NjRkNTk2Yzk0OTUxMDBjM2M4NzMwNzI5ZWM5NGUvNjYwYzZmNWIxYWJhZTlkYzQ5OGFjMmQyMWUxMzQ3ZDJhYmRiMGNmNmMwYzBjODU3NmNkNzk2NDkxZDlhNmNkZD9yZXNwb25zZS1jb250ZW50LWRpc3Bvc2l0aW9uPSoifV19&Signature=C6ZqAHXlhV%7Ej9lVw7itUk7EPEHt3kwnjUXBExkrZGh9RUUZrmTS4zQJoSVLoPgNU5cAiEwGp1ANtzNsYxEbjehMLUYUwf-oAewb5ZHg60CWQ5pv0RB7GLC54ye3kVs6f341xI%7EVdTzMUB2Adknv7UjxIBr66xyOijtLHWRBMCQOhSF3glUxdtl8BT9jnNIFO7kU9jUNjueYd9MAAU4%7E7ysS-2n9UqUUwg78VFP2yKkdwTQco9SddH5cemx3WS6BRiS-%7EyeYjTLnQcsHmAhz19KbG58SzW%7ETZsUY-b9nuBLvSeuc386u6lTkwAqezF5kvN7kdp%7ELdNCdij0BMVbcHzw__&Key-Pair-Id=K24J24Z295AEI9 [following]\n",
            "--2025-01-19 15:20:58--  https://cdn-lfs-us-1.hf.co/repos/f0/72/f072b3fc381065339926f6194e8ae71b6a464d596c9495100c3c8730729ec94e/660c6f5b1abae9dc498ac2d21e1347d2abdb0cf6c0c0c8576cd796491d9a6cdd?response-content-disposition=attachment%3B+filename*%3DUTF-8%27%27clip_l.safetensors%3B+filename%3D%22clip_l.safetensors%22%3B&Expires=1737559258&Policy=eyJTdGF0ZW1lbnQiOlt7IkNvbmRpdGlvbiI6eyJEYXRlTGVzc1RoYW4iOnsiQVdTOkVwb2NoVGltZSI6MTczNzU1OTI1OH19LCJSZXNvdXJjZSI6Imh0dHBzOi8vY2RuLWxmcy11cy0xLmhmLmNvL3JlcG9zL2YwLzcyL2YwNzJiM2ZjMzgxMDY1MzM5OTI2ZjYxOTRlOGFlNzFiNmE0NjRkNTk2Yzk0OTUxMDBjM2M4NzMwNzI5ZWM5NGUvNjYwYzZmNWIxYWJhZTlkYzQ5OGFjMmQyMWUxMzQ3ZDJhYmRiMGNmNmMwYzBjODU3NmNkNzk2NDkxZDlhNmNkZD9yZXNwb25zZS1jb250ZW50LWRpc3Bvc2l0aW9uPSoifV19&Signature=C6ZqAHXlhV%7Ej9lVw7itUk7EPEHt3kwnjUXBExkrZGh9RUUZrmTS4zQJoSVLoPgNU5cAiEwGp1ANtzNsYxEbjehMLUYUwf-oAewb5ZHg60CWQ5pv0RB7GLC54ye3kVs6f341xI%7EVdTzMUB2Adknv7UjxIBr66xyOijtLHWRBMCQOhSF3glUxdtl8BT9jnNIFO7kU9jUNjueYd9MAAU4%7E7ysS-2n9UqUUwg78VFP2yKkdwTQco9SddH5cemx3WS6BRiS-%7EyeYjTLnQcsHmAhz19KbG58SzW%7ETZsUY-b9nuBLvSeuc386u6lTkwAqezF5kvN7kdp%7ELdNCdij0BMVbcHzw__&Key-Pair-Id=K24J24Z295AEI9\n",
            "Resolving cdn-lfs-us-1.hf.co (cdn-lfs-us-1.hf.co)... 3.165.102.129, 3.165.102.87, 3.165.102.71, ...\n",
            "Connecting to cdn-lfs-us-1.hf.co (cdn-lfs-us-1.hf.co)|3.165.102.129|:443... connected.\n",
            "HTTP request sent, awaiting response... 200 OK\n",
            "Length: 246144152 (235M) [binary/octet-stream]\n",
            "Saving to: ‘/content/fluxgym/models/clip/clip_l.safetensors’\n",
            "\n",
            "/content/fluxgym/mo 100%[===================>] 234.74M  36.8MB/s    in 6.3s    \n",
            "\n",
            "2025-01-19 15:21:04 (37.3 MB/s) - ‘/content/fluxgym/models/clip/clip_l.safetensors’ saved [246144152/246144152]\n",
            "\n",
            "--2025-01-19 15:21:04--  https://huggingface.co/comfyanonymous/flux_text_encoders/resolve/main/t5xxl_fp8_e4m3fn.safetensors?download=true\n",
            "Resolving huggingface.co (huggingface.co)... 13.35.202.97, 13.35.202.34, 13.35.202.40, ...\n",
            "Connecting to huggingface.co (huggingface.co)|13.35.202.97|:443... connected.\n",
            "HTTP request sent, awaiting response... 302 Found\n",
            "Location: https://cdn-lfs-us-1.hf.co/repos/f0/72/f072b3fc381065339926f6194e8ae71b6a464d596c9495100c3c8730729ec94e/7d330da4816157540d6bb7838bf63a0f02f573fc48ca4d8de34bb0cbfd514f09?response-content-disposition=attachment%3B+filename*%3DUTF-8%27%27t5xxl_fp8_e4m3fn.safetensors%3B+filename%3D%22t5xxl_fp8_e4m3fn.safetensors%22%3B&Expires=1737559264&Policy=eyJTdGF0ZW1lbnQiOlt7IkNvbmRpdGlvbiI6eyJEYXRlTGVzc1RoYW4iOnsiQVdTOkVwb2NoVGltZSI6MTczNzU1OTI2NH19LCJSZXNvdXJjZSI6Imh0dHBzOi8vY2RuLWxmcy11cy0xLmhmLmNvL3JlcG9zL2YwLzcyL2YwNzJiM2ZjMzgxMDY1MzM5OTI2ZjYxOTRlOGFlNzFiNmE0NjRkNTk2Yzk0OTUxMDBjM2M4NzMwNzI5ZWM5NGUvN2QzMzBkYTQ4MTYxNTc1NDBkNmJiNzgzOGJmNjNhMGYwMmY1NzNmYzQ4Y2E0ZDhkZTM0YmIwY2JmZDUxNGYwOT9yZXNwb25zZS1jb250ZW50LWRpc3Bvc2l0aW9uPSoifV19&Signature=ujtI6-Z2owqUd9nn2m63km-5yeVDUYehorXegXibdeiOu6bAmlCOS5sB%7E03eNWU8cVM0htpj61w36mxiz3ZEwApv9O0i%7E55MUjPJZ9J1yAmEPWALDpqthyNeFmyexn4denhVF8RbVmDR7BWp8KGqKS61RECnGnAMUroqWpsIuo8n8qEIIOh6vuyvaSpW0rQQGbrgY07QPx8VhuwP2IAuC3KHE%7EtJ15x0JzNx90Jy0rTiiJaCjUCostU%7EkqY3bo%7E67CGEEc0w%7E6O6w40kYau5suy6SlJ485m6amVvvRYOR83urAV8nss-8RX0LgJdr4qOTLJS4CKTNg-%7E7eVace7vfg__&Key-Pair-Id=K24J24Z295AEI9 [following]\n",
            "--2025-01-19 15:21:05--  https://cdn-lfs-us-1.hf.co/repos/f0/72/f072b3fc381065339926f6194e8ae71b6a464d596c9495100c3c8730729ec94e/7d330da4816157540d6bb7838bf63a0f02f573fc48ca4d8de34bb0cbfd514f09?response-content-disposition=attachment%3B+filename*%3DUTF-8%27%27t5xxl_fp8_e4m3fn.safetensors%3B+filename%3D%22t5xxl_fp8_e4m3fn.safetensors%22%3B&Expires=1737559264&Policy=eyJTdGF0ZW1lbnQiOlt7IkNvbmRpdGlvbiI6eyJEYXRlTGVzc1RoYW4iOnsiQVdTOkVwb2NoVGltZSI6MTczNzU1OTI2NH19LCJSZXNvdXJjZSI6Imh0dHBzOi8vY2RuLWxmcy11cy0xLmhmLmNvL3JlcG9zL2YwLzcyL2YwNzJiM2ZjMzgxMDY1MzM5OTI2ZjYxOTRlOGFlNzFiNmE0NjRkNTk2Yzk0OTUxMDBjM2M4NzMwNzI5ZWM5NGUvN2QzMzBkYTQ4MTYxNTc1NDBkNmJiNzgzOGJmNjNhMGYwMmY1NzNmYzQ4Y2E0ZDhkZTM0YmIwY2JmZDUxNGYwOT9yZXNwb25zZS1jb250ZW50LWRpc3Bvc2l0aW9uPSoifV19&Signature=ujtI6-Z2owqUd9nn2m63km-5yeVDUYehorXegXibdeiOu6bAmlCOS5sB%7E03eNWU8cVM0htpj61w36mxiz3ZEwApv9O0i%7E55MUjPJZ9J1yAmEPWALDpqthyNeFmyexn4denhVF8RbVmDR7BWp8KGqKS61RECnGnAMUroqWpsIuo8n8qEIIOh6vuyvaSpW0rQQGbrgY07QPx8VhuwP2IAuC3KHE%7EtJ15x0JzNx90Jy0rTiiJaCjUCostU%7EkqY3bo%7E67CGEEc0w%7E6O6w40kYau5suy6SlJ485m6amVvvRYOR83urAV8nss-8RX0LgJdr4qOTLJS4CKTNg-%7E7eVace7vfg__&Key-Pair-Id=K24J24Z295AEI9\n",
            "Resolving cdn-lfs-us-1.hf.co (cdn-lfs-us-1.hf.co)... 3.165.102.129, 3.165.102.87, 3.165.102.71, ...\n",
            "Connecting to cdn-lfs-us-1.hf.co (cdn-lfs-us-1.hf.co)|3.165.102.129|:443... connected.\n",
            "HTTP request sent, awaiting response... 200 OK\n",
            "Length: 4893934904 (4.6G) [binary/octet-stream]\n",
            "Saving to: ‘/content/fluxgym/models/clip/t5xxl_fp8.safetensors’\n",
            "\n",
            "/content/fluxgym/mo 100%[===================>]   4.56G  39.9MB/s    in 2m 4s   \n",
            "\n",
            "2025-01-19 15:23:08 (37.7 MB/s) - ‘/content/fluxgym/models/clip/t5xxl_fp8.safetensors’ saved [4893934904/4893934904]\n",
            "\n",
            "--2025-01-19 15:23:08--  https://huggingface.co/cocktailpeanut/xulf-dev/resolve/main/ae.sft?download=true\n",
            "Resolving huggingface.co (huggingface.co)... 13.249.213.24, 13.249.213.119, 13.249.213.17, ...\n",
            "Connecting to huggingface.co (huggingface.co)|13.249.213.24|:443... connected.\n",
            "HTTP request sent, awaiting response... 302 Found\n",
            "Location: https://cdn-lfs-us-1.hf.co/repos/e6/1b/e61b51323e49f08f24e9281f70900db08a8c978b7ad4a4ec5c21b72296a4214b/afc8e28272cd15db3919bacdb6918ce9c1ed22e96cb12c4d5ed0fba823529e38?response-content-disposition=attachment%3B+filename*%3DUTF-8%27%27ae.sft%3B+filename%3D%22ae.sft%22%3B&Expires=1737559389&Policy=eyJTdGF0ZW1lbnQiOlt7IkNvbmRpdGlvbiI6eyJEYXRlTGVzc1RoYW4iOnsiQVdTOkVwb2NoVGltZSI6MTczNzU1OTM4OX19LCJSZXNvdXJjZSI6Imh0dHBzOi8vY2RuLWxmcy11cy0xLmhmLmNvL3JlcG9zL2U2LzFiL2U2MWI1MTMyM2U0OWYwOGYyNGU5MjgxZjcwOTAwZGIwOGE4Yzk3OGI3YWQ0YTRlYzVjMjFiNzIyOTZhNDIxNGIvYWZjOGUyODI3MmNkMTVkYjM5MTliYWNkYjY5MThjZTljMWVkMjJlOTZjYjEyYzRkNWVkMGZiYTgyMzUyOWUzOD9yZXNwb25zZS1jb250ZW50LWRpc3Bvc2l0aW9uPSoifV19&Signature=b6NbLmdEFpvaXr3AVS0zcbRMqGg3JyJQvjjaZGg%7E8Yu9oG3H9K6qX4FbrX%7E5pE2B36pknq4syBLdqcdWmFe%7Ejms4%7EYMoeb2XJlYWW9Zh5IKGXle3jLCdKrpsVec2FEwEjirrhvsPPE4YW-zEd5gw8SaPwjKwczlwToYyAstdCT%7EBbFGyb1fJEWsD-JiBLLZyg2cTrOVcLc8rB1FzyxjX8IcqpxQKM%7EmiA2q357VpdI4RlwQrRefWHqCDflSXpxPQeYNM7hs304vvKIBDp9ZvFtTAptiM58Dgun77Bf1xwQCjR5CpuuAfWjnYO8i5vd93blpplQklxrT55pZDVjvWrg__&Key-Pair-Id=K24J24Z295AEI9 [following]\n",
            "--2025-01-19 15:23:09--  https://cdn-lfs-us-1.hf.co/repos/e6/1b/e61b51323e49f08f24e9281f70900db08a8c978b7ad4a4ec5c21b72296a4214b/afc8e28272cd15db3919bacdb6918ce9c1ed22e96cb12c4d5ed0fba823529e38?response-content-disposition=attachment%3B+filename*%3DUTF-8%27%27ae.sft%3B+filename%3D%22ae.sft%22%3B&Expires=1737559389&Policy=eyJTdGF0ZW1lbnQiOlt7IkNvbmRpdGlvbiI6eyJEYXRlTGVzc1RoYW4iOnsiQVdTOkVwb2NoVGltZSI6MTczNzU1OTM4OX19LCJSZXNvdXJjZSI6Imh0dHBzOi8vY2RuLWxmcy11cy0xLmhmLmNvL3JlcG9zL2U2LzFiL2U2MWI1MTMyM2U0OWYwOGYyNGU5MjgxZjcwOTAwZGIwOGE4Yzk3OGI3YWQ0YTRlYzVjMjFiNzIyOTZhNDIxNGIvYWZjOGUyODI3MmNkMTVkYjM5MTliYWNkYjY5MThjZTljMWVkMjJlOTZjYjEyYzRkNWVkMGZiYTgyMzUyOWUzOD9yZXNwb25zZS1jb250ZW50LWRpc3Bvc2l0aW9uPSoifV19&Signature=b6NbLmdEFpvaXr3AVS0zcbRMqGg3JyJQvjjaZGg%7E8Yu9oG3H9K6qX4FbrX%7E5pE2B36pknq4syBLdqcdWmFe%7Ejms4%7EYMoeb2XJlYWW9Zh5IKGXle3jLCdKrpsVec2FEwEjirrhvsPPE4YW-zEd5gw8SaPwjKwczlwToYyAstdCT%7EBbFGyb1fJEWsD-JiBLLZyg2cTrOVcLc8rB1FzyxjX8IcqpxQKM%7EmiA2q357VpdI4RlwQrRefWHqCDflSXpxPQeYNM7hs304vvKIBDp9ZvFtTAptiM58Dgun77Bf1xwQCjR5CpuuAfWjnYO8i5vd93blpplQklxrT55pZDVjvWrg__&Key-Pair-Id=K24J24Z295AEI9\n",
            "Resolving cdn-lfs-us-1.hf.co (cdn-lfs-us-1.hf.co)... 3.165.102.129, 3.165.102.87, 3.165.102.71, ...\n",
            "Connecting to cdn-lfs-us-1.hf.co (cdn-lfs-us-1.hf.co)|3.165.102.129|:443... connected.\n",
            "HTTP request sent, awaiting response... 200 OK\n",
            "Length: 335304388 (320M) [binary/octet-stream]\n",
            "Saving to: ‘/content/fluxgym/models/vae/ae.sft’\n",
            "\n",
            "/content/fluxgym/mo 100%[===================>] 319.77M  40.9MB/s    in 7.9s    \n",
            "\n",
            "2025-01-19 15:23:17 (40.5 MB/s) - ‘/content/fluxgym/models/vae/ae.sft’ saved [335304388/335304388]\n",
            "\n"
          ]
        }
      ],
      "source": [
        "!wget -O /content/fluxgym/models/unet/flux1-dev-fp8.safetensors https://huggingface.co/Kijai/flux-fp8/resolve/main/flux1-dev-fp8.safetensors\n",
        "!wget -O /content/fluxgym/models/clip/clip_l.safetensors https://huggingface.co/comfyanonymous/flux_text_encoders/resolve/main/clip_l.safetensors?download=true\n",
        "!wget -O /content/fluxgym/models/clip/t5xxl_fp8.safetensors https://huggingface.co/comfyanonymous/flux_text_encoders/resolve/main/t5xxl_fp8_e4m3fn.safetensors?download=true\n",
        "!wget -O /content/fluxgym/models/vae/ae.sft https://huggingface.co/cocktailpeanut/xulf-dev/resolve/main/ae.sft?download=true"
      ]
    },
    {
      "cell_type": "markdown",
      "source": [
        "# **Start the web server and click the share link**"
      ],
      "metadata": {
        "id": "Tef5XIaQksXa"
      }
    },
    {
      "cell_type": "code",
      "execution_count": null,
      "metadata": {
        "id": "mzJMy5sjuICj",
        "colab": {
          "base_uri": "https://localhost:8080/"
        },
        "outputId": "583afb82-fab3-416d-9b3f-44836482d847"
      },
      "outputs": [
        {
          "output_type": "stream",
          "name": "stdout",
          "text": [
            "2025-01-19 15:27:42.231841: E external/local_xla/xla/stream_executor/cuda/cuda_fft.cc:485] Unable to register cuFFT factory: Attempting to register factory for plugin cuFFT when one has already been registered\n",
            "2025-01-19 15:27:42.262129: E external/local_xla/xla/stream_executor/cuda/cuda_dnn.cc:8454] Unable to register cuDNN factory: Attempting to register factory for plugin cuDNN when one has already been registered\n",
            "2025-01-19 15:27:42.268208: E external/local_xla/xla/stream_executor/cuda/cuda_blas.cc:1452] Unable to register cuBLAS factory: Attempting to register factory for plugin cuBLAS when one has already been registered\n",
            "2025-01-19 15:27:42.282879: I tensorflow/core/platform/cpu_feature_guard.cc:210] This TensorFlow binary is optimized to use available CPU instructions in performance-critical operations.\n",
            "To enable the following instructions: AVX2 FMA, in other operations, rebuild TensorFlow with the appropriate compiler flags.\n",
            "2025-01-19 15:27:43.402007: W tensorflow/compiler/tf2tensorrt/utils/py_utils.cc:38] TF-TRT Warning: Could not find TensorRT\n",
            "current_account=None\n",
            "model_names=['flux-dev', 'flux-schnell', 'bdsqlsz/flux1-dev2pro-single']\n",
            "\n",
            "\n",
            "\n",
            "\n",
            "\n",
            "\n",
            "\n",
            "\n",
            "\n",
            "\n",
            "\n",
            "\n",
            "\n",
            "\n",
            "\n",
            "\n",
            "\n",
            "\n",
            "\n",
            "\n",
            "\n",
            "\n",
            "\n",
            "\n",
            "\n",
            "\n",
            "\n",
            "\n",
            "\n",
            "\n",
            "\n",
            "\n",
            "\n",
            "\n",
            "\n",
            "Running on local URL:  http://127.0.0.1:7860\n",
            "\u001b[2;36m2025-01-19 15:27:47\u001b[0m\u001b[2;36m \u001b[0m\u001b[34mINFO    \u001b[0m HTTP Request: \u001b[1;33mGET\u001b[0m \u001b[4;94mhttp://127.0.0.1:7860/startup-events\u001b[0m  \u001b]8;id=262163;file:///usr/local/lib/python3.11/dist-packages/httpx/_client.py\u001b\\\u001b[2m_client.py\u001b[0m\u001b]8;;\u001b\\\u001b[2m:\u001b[0m\u001b]8;id=953002;file:///usr/local/lib/python3.11/dist-packages/httpx/_client.py#1025\u001b\\\u001b[2m1025\u001b[0m\u001b]8;;\u001b\\\n",
            "\u001b[2;36m                    \u001b[0m         \u001b[32m\"HTTP/1.1 200 OK\"\u001b[0m                                       \u001b[2m               \u001b[0m\n",
            "\u001b[2;36m                   \u001b[0m\u001b[2;36m \u001b[0m\u001b[34mINFO    \u001b[0m HTTP Request: \u001b[1;33mHEAD\u001b[0m \u001b[4;94mhttp://127.0.0.1:7860/\u001b[0m \u001b[32m\"HTTP/1.1 200\u001b[0m \u001b]8;id=752643;file:///usr/local/lib/python3.11/dist-packages/httpx/_client.py\u001b\\\u001b[2m_client.py\u001b[0m\u001b]8;;\u001b\\\u001b[2m:\u001b[0m\u001b]8;id=690246;file:///usr/local/lib/python3.11/dist-packages/httpx/_client.py#1025\u001b\\\u001b[2m1025\u001b[0m\u001b]8;;\u001b\\\n",
            "\u001b[2;36m                    \u001b[0m         \u001b[32mOK\"\u001b[0m                                                     \u001b[2m               \u001b[0m\n",
            "\u001b[2;36m2025-01-19 15:27:48\u001b[0m\u001b[2;36m \u001b[0m\u001b[34mINFO    \u001b[0m HTTP Request: \u001b[1;33mGET\u001b[0m                                       \u001b]8;id=922321;file:///usr/local/lib/python3.11/dist-packages/httpx/_client.py\u001b\\\u001b[2m_client.py\u001b[0m\u001b]8;;\u001b\\\u001b[2m:\u001b[0m\u001b]8;id=287373;file:///usr/local/lib/python3.11/dist-packages/httpx/_client.py#1025\u001b\\\u001b[2m1025\u001b[0m\u001b]8;;\u001b\\\n",
            "\u001b[2;36m                    \u001b[0m         \u001b[4;94mhttps://api.gradio.app/v2/tunnel-request\u001b[0m \u001b[32m\"HTTP/1.1 200 \u001b[0m \u001b[2m               \u001b[0m\n",
            "\u001b[2;36m                    \u001b[0m         \u001b[32mOK\"\u001b[0m                                                     \u001b[2m               \u001b[0m\n",
            "\u001b[2;36m                   \u001b[0m\u001b[2;36m \u001b[0m\u001b[34mINFO    \u001b[0m HTTP Request: \u001b[1;33mGET\u001b[0m                                       \u001b]8;id=671601;file:///usr/local/lib/python3.11/dist-packages/httpx/_client.py\u001b\\\u001b[2m_client.py\u001b[0m\u001b]8;;\u001b\\\u001b[2m:\u001b[0m\u001b]8;id=800308;file:///usr/local/lib/python3.11/dist-packages/httpx/_client.py#1025\u001b\\\u001b[2m1025\u001b[0m\u001b]8;;\u001b\\\n",
            "\u001b[2;36m                    \u001b[0m         \u001b[4;94mhttps://cdn-media.huggingface.co/frpc-gradio-0.2/frpc_l\u001b[0m \u001b[2m               \u001b[0m\n",
            "\u001b[2;36m                    \u001b[0m         \u001b[4;94minux_amd64\u001b[0m \u001b[32m\"HTTP/1.1 200 OK\"\u001b[0m                            \u001b[2m               \u001b[0m\n",
            "Running on public URL: https://cb5bdc89f536e10147.gradio.live\n",
            "\n",
            "This share link expires in 72 hours. For free permanent hosting and GPU upgrades, run `gradio deploy` from Terminal to deploy to Spaces (https://huggingface.co/spaces)\n"
          ]
        }
      ],
      "source": [
        "!python app.py"
      ]
    },
    {
      "cell_type": "markdown",
      "source": [
        "# **Download the completed Loras from the fluxgym-Colab/outputs directory. Copy and paste the models URL in the filename = 'Lora path here'**"
      ],
      "metadata": {
        "id": "3tQM2tYxk00i"
      }
    },
    {
      "cell_type": "code",
      "source": [
        "from google.colab import files\n",
        "\n",
        "filename = '/content/fluxgym-Colab/outputs/sarah-lora.safetensors'\n",
        "files.download(filename)"
      ],
      "metadata": {
        "colab": {
          "base_uri": "https://localhost:8080/",
          "height": 17
        },
        "id": "8obna2u3ssGv",
        "outputId": "88252342-d118-4cf8-c348-6b08d1cfc4ce"
      },
      "execution_count": null,
      "outputs": [
        {
          "output_type": "display_data",
          "data": {
            "text/plain": [
              "<IPython.core.display.Javascript object>"
            ],
            "application/javascript": [
              "\n",
              "    async function download(id, filename, size) {\n",
              "      if (!google.colab.kernel.accessAllowed) {\n",
              "        return;\n",
              "      }\n",
              "      const div = document.createElement('div');\n",
              "      const label = document.createElement('label');\n",
              "      label.textContent = `Downloading \"${filename}\": `;\n",
              "      div.appendChild(label);\n",
              "      const progress = document.createElement('progress');\n",
              "      progress.max = size;\n",
              "      div.appendChild(progress);\n",
              "      document.body.appendChild(div);\n",
              "\n",
              "      const buffers = [];\n",
              "      let downloaded = 0;\n",
              "\n",
              "      const channel = await google.colab.kernel.comms.open(id);\n",
              "      // Send a message to notify the kernel that we're ready.\n",
              "      channel.send({})\n",
              "\n",
              "      for await (const message of channel.messages) {\n",
              "        // Send a message to notify the kernel that we're ready.\n",
              "        channel.send({})\n",
              "        if (message.buffers) {\n",
              "          for (const buffer of message.buffers) {\n",
              "            buffers.push(buffer);\n",
              "            downloaded += buffer.byteLength;\n",
              "            progress.value = downloaded;\n",
              "          }\n",
              "        }\n",
              "      }\n",
              "      const blob = new Blob(buffers, {type: 'application/binary'});\n",
              "      const a = document.createElement('a');\n",
              "      a.href = window.URL.createObjectURL(blob);\n",
              "      a.download = filename;\n",
              "      div.appendChild(a);\n",
              "      a.click();\n",
              "      div.remove();\n",
              "    }\n",
              "  "
            ]
          },
          "metadata": {}
        },
        {
          "output_type": "display_data",
          "data": {
            "text/plain": [
              "<IPython.core.display.Javascript object>"
            ],
            "application/javascript": [
              "download(\"download_523ed405-0608-429e-b78f-301916bfde7c\", \"sarah-lora.safetensors\", 39757200)"
            ]
          },
          "metadata": {}
        }
      ]
    }
  ],
  "metadata": {
    "colab": {
      "provenance": [],
      "gpuType": "T4",
      "include_colab_link": true
    },
    "kernelspec": {
      "display_name": "Python 3",
      "name": "python3"
    },
    "language_info": {
      "name": "python"
    },
    "accelerator": "GPU"
  },
  "nbformat": 4,
  "nbformat_minor": 0
}